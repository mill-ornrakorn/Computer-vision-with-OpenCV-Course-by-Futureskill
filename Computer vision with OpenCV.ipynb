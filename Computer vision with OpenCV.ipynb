{
 "cells": [
  {
   "cell_type": "markdown",
   "id": "f696492c",
   "metadata": {},
   "source": [
    "# Computer vision with OpenCV"
   ]
  },
  {
   "cell_type": "markdown",
   "id": "f7a3809c",
   "metadata": {},
   "source": [
    "เนื้อหาประกอบด้วย ดังนี้\n",
    "1. Basic Image Representation with OpenCV\n",
    "2. Image Annotation\n",
    "3. Image Manipulation"
   ]
  },
  {
   "cell_type": "markdown",
   "id": "84120683",
   "metadata": {},
   "source": [
    "---"
   ]
  },
  {
   "cell_type": "markdown",
   "id": "dacc9a22",
   "metadata": {},
   "source": [
    "## 1. Basic Image Representation with OpenCV"
   ]
  },
  {
   "cell_type": "code",
   "execution_count": 1,
   "id": "1b96b2bf",
   "metadata": {},
   "outputs": [
    {
     "name": "stdout",
     "output_type": "stream",
     "text": [
      "4.7.0\n"
     ]
    }
   ],
   "source": [
    "# ตรวจสอบเวอร์ชั่นของ OpenCV ที่ติดตั้งไปแล้ว\n",
    "import cv2\n",
    "print(cv2.__version__)"
   ]
  },
  {
   "cell_type": "markdown",
   "id": "9b4a3838",
   "metadata": {},
   "source": [
    "### image"
   ]
  },
  {
   "cell_type": "code",
   "execution_count": 6,
   "id": "02bc4cda",
   "metadata": {},
   "outputs": [],
   "source": [
    "# Load an image\n",
    "image = cv2.imread(\"lenna.png\")"
   ]
  },
  {
   "cell_type": "code",
   "execution_count": 7,
   "id": "2376fbce",
   "metadata": {},
   "outputs": [
    {
     "name": "stdout",
     "output_type": "stream",
     "text": [
      "[[[125 137 226]\n",
      "  [125 137 226]\n",
      "  [133 137 223]\n",
      "  ...\n",
      "  [122 148 230]\n",
      "  [110 130 221]\n",
      "  [ 90  99 200]]\n",
      "\n",
      " [[125 137 226]\n",
      "  [125 137 226]\n",
      "  [133 137 223]\n",
      "  ...\n",
      "  [122 148 230]\n",
      "  [110 130 221]\n",
      "  [ 90  99 200]]\n",
      "\n",
      " [[125 137 226]\n",
      "  [125 137 226]\n",
      "  [133 137 223]\n",
      "  ...\n",
      "  [122 148 230]\n",
      "  [110 130 221]\n",
      "  [ 90  99 200]]\n",
      "\n",
      " ...\n",
      "\n",
      " [[ 60  18  84]\n",
      "  [ 60  18  84]\n",
      "  [ 58  27  92]\n",
      "  ...\n",
      "  [ 84  73 173]\n",
      "  [ 76  68 172]\n",
      "  [ 79  62 177]]\n",
      "\n",
      " [[ 57  22  82]\n",
      "  [ 57  22  82]\n",
      "  [ 62  32  96]\n",
      "  ...\n",
      "  [ 79  70 179]\n",
      "  [ 81  71 181]\n",
      "  [ 81  74 185]]\n",
      "\n",
      " [[ 57  22  82]\n",
      "  [ 57  22  82]\n",
      "  [ 62  32  96]\n",
      "  ...\n",
      "  [ 79  70 179]\n",
      "  [ 81  71 181]\n",
      "  [ 81  74 185]]]\n"
     ]
    }
   ],
   "source": [
    "# Print image infomation as is\n",
    "print(image)"
   ]
  },
  {
   "cell_type": "code",
   "execution_count": 3,
   "id": "62849822",
   "metadata": {},
   "outputs": [
    {
     "name": "stdout",
     "output_type": "stream",
     "text": [
      "The size of the Image is: (512, 512, 3)\n",
      "The data type of the Image is: uint8\n",
      "The dimensions of the Image is: 3\n"
     ]
    }
   ],
   "source": [
    "# Show image properties\n",
    "print(f'The size of the Image is: {image.shape}')\n",
    "print(f'The data type of the Image is: {image.dtype}')\n",
    "print(f'The dimensions of the Image is: {image.ndim}')"
   ]
  },
  {
   "cell_type": "code",
   "execution_count": 4,
   "id": "8be94f0e",
   "metadata": {},
   "outputs": [],
   "source": [
    "# Display image\n",
    "cv2.imshow(\"display\",image)\n",
    "\n",
    "cv2.waitKey(0)\n",
    "cv2.destroyAllWindows()"
   ]
  },
  {
   "cell_type": "code",
   "execution_count": 5,
   "id": "1edbed6d",
   "metadata": {},
   "outputs": [
    {
     "name": "stdout",
     "output_type": "stream",
     "text": [
      "[ 78  68 178]\n"
     ]
    }
   ],
   "source": [
    "# Read image pixel at x=100,y=100 then print to screen\n",
    "print(image[100,100])"
   ]
  },
  {
   "cell_type": "code",
   "execution_count": 8,
   "id": "93bf2f8f",
   "metadata": {},
   "outputs": [],
   "source": [
    "# Edit pixel in ROI (Region of Interest), y from 50 to 100 and x from 30 to 60 ให้เป็นสีดำ\n",
    "image[50:100,30:60] = 0\n",
    "\n",
    "# Show edited image\n",
    "cv2.imshow(\"display\",image)\n",
    "\n",
    "cv2.waitKey(0)\n",
    "cv2.destroyAllWindows()"
   ]
  },
  {
   "cell_type": "code",
   "execution_count": 9,
   "id": "9542178a",
   "metadata": {},
   "outputs": [],
   "source": [
    "# Edit pixel area\n",
    "image[50:100,50:100] = 0\n",
    "\n",
    "# Show edited image\n",
    "cv2.imshow(\"display\",image)\n",
    "\n",
    "# Save edited image to disk\n",
    "cv2.imwrite(\"result.png\",image)\n",
    "\n",
    "cv2.waitKey(0)\n",
    "cv2.destroyAllWindows()"
   ]
  },
  {
   "cell_type": "markdown",
   "id": "67838d20",
   "metadata": {},
   "source": [
    "### Video"
   ]
  },
  {
   "cell_type": "markdown",
   "id": "1e9f42a2",
   "metadata": {},
   "source": [
    "#### - load video แล้วแสดงหน้าต่าง"
   ]
  },
  {
   "cell_type": "code",
   "execution_count": 10,
   "id": "72c05ad8",
   "metadata": {},
   "outputs": [],
   "source": [
    "import cv2\n",
    "\n",
    "# load video จาก webcam\n",
    "cap = cv2.VideoCapture(0) \n",
    "\n",
    "while cap.isOpened():\n",
    "    ret, frame = cap.read()\n",
    "\n",
    "    if not ret:\n",
    "        print(\"Can't receive frame (stream end?).\")\n",
    "        break\n",
    "\n",
    "    cv2.imshow('frame', frame)\n",
    "\n",
    "    if cv2.waitKey(1) == ord('q'): # กด q เพื่อออก\n",
    "        break\n",
    "    \n",
    "cv2.waitKey(0) # จะค้างไว้ frame สุดท้าย รอจนกว่าจะกดปุ่ม q\n",
    "# Release everything if job is finished\n",
    "cap.release() # ปล่อยไฟล์ vdo ออกจาก memory\n",
    "cv2.destroyAllWindows() # ทำลายหน้าต่างทั้งหมดที่ openCV จองไว้"
   ]
  },
  {
   "cell_type": "code",
   "execution_count": 12,
   "id": "5fb1189b",
   "metadata": {},
   "outputs": [],
   "source": [
    "# load video จาก Video file\n",
    "cap = cv2.VideoCapture('road3.mp4') \n",
    "\n",
    "while cap.isOpened():\n",
    "    ret, frame = cap.read()\n",
    "\n",
    "    if not ret:\n",
    "        print(\"Can't receive frame (stream end?).\")\n",
    "        break\n",
    "\n",
    "    cv2.imshow('frame', frame)\n",
    "\n",
    "    if cv2.waitKey(1) == ord('q'): # กด q เพื่อออก\n",
    "        break\n",
    "    \n",
    "#cv2.waitKey(0) # จะค้างไว้ frame สุดท้าย รอจนกว่าจะกดปุ่ม q\n",
    "# Release everything if job is finished\n",
    "cap.release() # ปล่อยไฟล์ vdo ออกจาก memory\n",
    "cv2.destroyAllWindows() # ทำลายหน้าต่างทั้งหมดที่ openCV จองไว้"
   ]
  },
  {
   "cell_type": "markdown",
   "id": "13206b38",
   "metadata": {},
   "source": [
    "#### - save video "
   ]
  },
  {
   "cell_type": "code",
   "execution_count": 15,
   "id": "1d6a5f6d",
   "metadata": {},
   "outputs": [],
   "source": [
    "# load video จาก Video file\n",
    "cap = cv2.VideoCapture(\"road3.mp4\")\n",
    "\n",
    "# Define the codec and create VideoWriter object\n",
    "fourcc = cv2.VideoWriter_fourcc(*'XVID') # format vdo\n",
    "out = cv2.VideoWriter('output.mp4', \n",
    "                      fourcc, \n",
    "                      20.0, # ใช้เวลาหรือขนาดเท่าไร\n",
    "                      (256, 256))\n",
    "\n",
    "while cap.isOpened():\n",
    "    ret, frame = cap.read()\n",
    "    if not ret:\n",
    "        print(\"Can't receive frame (stream end?).\")\n",
    "        break\n",
    "        \n",
    "    frame = cv2.flip(frame, 0) # flip vdo\n",
    "    \n",
    "    # write the flipped frame\n",
    "    out.write(frame)\n",
    "    cv2.imshow('frame', frame)\n",
    "    \n",
    "    if cv2.waitKey(1) == ord('q'):  # กด q เพื่อออก\n",
    "        break\n",
    "        \n",
    "# Release everything if job is finished\n",
    "cap.release()\n",
    "out.release()\n",
    "cv2.destroyAllWindows()    "
   ]
  },
  {
   "cell_type": "markdown",
   "id": "8b26adde",
   "metadata": {},
   "source": [
    "## 2. Image Annotation"
   ]
  },
  {
   "cell_type": "markdown",
   "id": "839e4b55",
   "metadata": {},
   "source": [
    "### Basic draw operation"
   ]
  },
  {
   "cell_type": "markdown",
   "id": "a247ed0e",
   "metadata": {},
   "source": [
    "### - Draw rectangle"
   ]
  },
  {
   "cell_type": "code",
   "execution_count": 16,
   "id": "e5b0db02",
   "metadata": {},
   "outputs": [
    {
     "data": {
      "text/plain": [
       "-1"
      ]
     },
     "execution_count": 16,
     "metadata": {},
     "output_type": "execute_result"
    }
   ],
   "source": [
    "import cv2\n",
    "\n",
    "img = cv2.imread('lenna.png')\n",
    "\n",
    "# Display Image\n",
    "cv2.imshow('Original Image',img)\n",
    "\n",
    "# make a copy of the original image\n",
    "imageRectangle = img.copy()\n",
    "# define the starting and end points of the rectangle\n",
    "start_point =(300,115)\n",
    "end_point =(475,225)\n",
    "# draw the rectangle\n",
    "cv2.rectangle(imageRectangle, start_point, end_point, (0, 0, 255), thickness= 3, lineType=cv2.LINE_8) \n",
    "# display the output\n",
    "cv2.imshow('imageRectangle', imageRectangle)\n",
    "cv2.waitKey(0)"
   ]
  },
  {
   "cell_type": "markdown",
   "id": "511236c3",
   "metadata": {},
   "source": [
    "### - Draw circle"
   ]
  },
  {
   "cell_type": "code",
   "execution_count": 17,
   "id": "4b49bf4f",
   "metadata": {},
   "outputs": [
    {
     "data": {
      "text/plain": [
       "-1"
      ]
     },
     "execution_count": 17,
     "metadata": {},
     "output_type": "execute_result"
    }
   ],
   "source": [
    "import cv2\n",
    "\n",
    "img = cv2.imread('lenna.png')\n",
    "\n",
    "# Display Image\n",
    "cv2.imshow('Original Image',img)\n",
    "\n",
    "# Make a copy of image\n",
    "imageCircle = img.copy()\n",
    "# define the center of circle\n",
    "circle_center = (415,190)\n",
    "# define the radius of the circle\n",
    "radius = 100\n",
    "#  Draw a circle using the circle() Function\n",
    "cv2.circle(imageCircle, circle_center, radius, (0, 0, 255), thickness=3, lineType=cv2.LINE_AA) \n",
    "# Display the result\n",
    "cv2.imshow(\"Image Circle\",imageCircle)\n",
    "\n",
    "cv2.waitKey(0)"
   ]
  },
  {
   "cell_type": "markdown",
   "id": "7a42a718",
   "metadata": {},
   "source": [
    "### - Draw line"
   ]
  },
  {
   "cell_type": "code",
   "execution_count": 18,
   "id": "31b5001a",
   "metadata": {},
   "outputs": [
    {
     "data": {
      "text/plain": [
       "-1"
      ]
     },
     "execution_count": 18,
     "metadata": {},
     "output_type": "execute_result"
    }
   ],
   "source": [
    "import cv2\n",
    "\n",
    "img = cv2.imread('lenna.png')\n",
    "\n",
    "# Display Image\n",
    "cv2.imshow('Original Image',img)\n",
    "imageLine = img.copy()\n",
    "\n",
    "#Draw the image from point A to B\n",
    "pointA = (200,80)\n",
    "pointB = (450,80)\n",
    "cv2.line(imageLine, pointA, pointB, (255, 255, 0), thickness=3, lineType=cv2.LINE_AA)\n",
    "cv2.imshow('Image Line', imageLine)\n",
    "\n",
    "cv2.waitKey(0)"
   ]
  },
  {
   "cell_type": "markdown",
   "id": "8eed52f2",
   "metadata": {},
   "source": [
    "### - Draw Text"
   ]
  },
  {
   "cell_type": "code",
   "execution_count": 19,
   "id": "20a5e846",
   "metadata": {},
   "outputs": [],
   "source": [
    "import cv2\n",
    "\n",
    "img = cv2.imread('lenna.png')\n",
    "\n",
    "# Display Image\n",
    "cv2.imshow('Original Image',img)\n",
    "\n",
    "# make a copy of the original image\n",
    "imageText = img.copy()\n",
    "#let's write the text you want to put on the image\n",
    "text = 'Hello OpenCV'\n",
    "#org: Where you want to put the text\n",
    "org = (50,350)\n",
    "# write the text on the input image\n",
    "cv2.putText(imageText, text, org, fontFace = cv2.FONT_HERSHEY_COMPLEX, fontScale = 1.5, color = (250,225,100))\n",
    "# display the output image with text over it\n",
    "cv2.imshow(\"Image Text\",imageText)\n",
    "cv2.waitKey(0)\n",
    "cv2.destroyAllWindows()"
   ]
  },
  {
   "cell_type": "markdown",
   "id": "91af7684",
   "metadata": {},
   "source": [
    "### - Fill polygon"
   ]
  },
  {
   "cell_type": "code",
   "execution_count": 20,
   "id": "ae9c9b75",
   "metadata": {},
   "outputs": [
    {
     "data": {
      "text/plain": [
       "-1"
      ]
     },
     "execution_count": 20,
     "metadata": {},
     "output_type": "execute_result"
    }
   ],
   "source": [
    "import cv2\n",
    "import numpy as np\n",
    "\n",
    "img = cv2.imread('lenna.png')\n",
    "\n",
    "# Display Image\n",
    "cv2.imshow('Original Image',img)\n",
    "\n",
    "# make a copy of the original image\n",
    "imagePoly = img.copy()\n",
    "\n",
    "penta = np.array([[[40,160],[120,100],[200,160],[160,240],[80,240]]], np.int32)\n",
    "triangle = np.array([[[240, 130], [380, 230], [190, 280]]], np.int32)\n",
    "\n",
    "cv2.polylines(imagePoly, [triangle], True, (0,255,0), thickness=3)\n",
    "cv2.polylines(imagePoly, [penta], True, (255,120,255),3)\n",
    "cv2.imshow('imagePoly', imagePoly)\n",
    "cv2.waitKey(0)"
   ]
  },
  {
   "cell_type": "markdown",
   "id": "0d1cb8b4",
   "metadata": {},
   "source": [
    "## 3. Image Manipulation"
   ]
  },
  {
   "cell_type": "markdown",
   "id": "a7befd7f",
   "metadata": {},
   "source": [
    "### Arithmetic operations on images"
   ]
  },
  {
   "cell_type": "code",
   "execution_count": 24,
   "id": "3a01a737",
   "metadata": {},
   "outputs": [
    {
     "data": {
      "text/plain": [
       "-1"
      ]
     },
     "execution_count": 24,
     "metadata": {},
     "output_type": "execute_result"
    }
   ],
   "source": [
    "import cv2\n",
    "import numpy as np\n",
    "\n",
    "input_image = cv2.imread(\"apple.png\")\n",
    "\n",
    "# First create an image the same size as our input\n",
    "blank_image = np.zeros((input_image.shape), np.uint8) # np.zeros คือ สร้าง array ที่เต็มไปด้วยเลข 0\n",
    "\n",
    "# give it a green square\n",
    "blank_image[100:200,100:200,1]=100;\n",
    "\n",
    "# add the two images together (unsafe) คล้าย ๆ รวม layer ใน photoshop\n",
    "#new_image = blank_image + input_image\n",
    "\n",
    "# add the two images together (safe) คล้าย ๆ รวม layer ใน photoshop \n",
    "# โดยใน cv2.add() จะมีการป้องกันไม่ให้ range ของรูปเกินกำหนด\n",
    "new_image = cv2.add(blank_image,input_image)\n",
    "\n",
    "cv2.imshow(\"result\",new_image)\n",
    "cv2.waitKey(0)"
   ]
  },
  {
   "cell_type": "code",
   "execution_count": 25,
   "id": "4e2128c2",
   "metadata": {},
   "outputs": [],
   "source": [
    "flipped_code_0 = cv2.flip(input_image,0) # vertical flip\n",
    "flipped_code_1 = cv2.flip(input_image,1) # horizontal flip\n",
    "transposed = cv2.transpose(input_image) # Swap axis"
   ]
  },
  {
   "cell_type": "markdown",
   "id": "2ddb5f9a",
   "metadata": {},
   "source": [
    "### Image denoising (Noise reduction)"
   ]
  },
  {
   "cell_type": "markdown",
   "id": "0e7f83e3",
   "metadata": {},
   "source": [
    "● Average filtering:\n",
    "> เอา pixel ข้าง ๆ มาบวกกับ pixel ข้างเคียงแล้วจะเฉลี่ยให้ค่าสีเท่ากัน (เบลอเท่า ๆ กัน)\n",
    "\n",
    "> void blur(InputArray src, OutputArray dst, parameters)\n",
    "\n",
    "> void boxFilter(InputArray src, OutputArray dst, parameters)\n",
    "\n",
    "● Gaussian filtering:\n",
    "> นิยมใช้มาก\n",
    "\n",
    "> จะหาความน่าจะเป็นของรูปว่าในระหว่าง pixel กับ pixel ข้าง ๆ เป็นยังไง (รูประฆังคว่ำ) ทำให้ตรงกลางจะเบลอมาก ตรงปลายจะเบลอน้อย\n",
    "\n",
    "> void gaussianBlur(InputArray src, OutputArray dst, parameters)\n",
    "\n",
    "● Bilateral filtering:\n",
    "> เบลอแบบเอา pixel ทั้งหมดมาเบลอร่วมกัน โดยที่ยังคงสภาพของ surface ไว้\n",
    "\n",
    "> void bilateralFilter(InputArray src, OutputArray dst, parameters)\n",
    "\n",
    "● Median filtering:\n",
    "> เบลอพื้นผิว มักใช้กำจัด noise ที่อยู่บน surface\n",
    "\n",
    "> void medianBlur(InputArray src, OutputArray dst, parameters)"
   ]
  },
  {
   "cell_type": "markdown",
   "id": "00084677",
   "metadata": {},
   "source": [
    "#### - ภาพสีเดิม"
   ]
  },
  {
   "cell_type": "code",
   "execution_count": 26,
   "id": "f84d6aef",
   "metadata": {},
   "outputs": [],
   "source": [
    "import cv2\n",
    " \n",
    "# Reading the image\n",
    "image = cv2.imread('apple.png')\n",
    " \n",
    "# Showing the image\n",
    "cv2.imshow('Original', image)\n",
    "\n",
    "# Applying the filter\n",
    "smoothimg = cv2.blur(image, (5, 5))\n",
    "cv2.imshow('AvarageBlur', smoothimg)\n",
    "\n",
    "smoothimg = cv2.GaussianBlur(image, (5, 5), 0)\n",
    "cv2.imshow('GaussianBlur', smoothimg)\n",
    "\n",
    "smoothimg = cv2.bilateralFilter(image, 5, 75, 75)\n",
    "cv2.imshow('bilateralFilter', smoothimg)\n",
    "\n",
    "smoothimg = cv2.medianBlur(image, 5)\n",
    "cv2.imshow('medianBlur', smoothimg)\n",
    "\n",
    " \n",
    "cv2.waitKey()\n",
    "cv2.destroyAllWindows()"
   ]
  },
  {
   "cell_type": "markdown",
   "id": "3af53304",
   "metadata": {},
   "source": [
    "### Image Thresholding"
   ]
  },
  {
   "cell_type": "markdown",
   "id": "6737f017",
   "metadata": {},
   "source": [
    "Image Thresholding คือ เทคนิคตัดขอบของภาพ"
   ]
  },
  {
   "cell_type": "markdown",
   "id": "fa5d257d",
   "metadata": {},
   "source": [
    "**Type**\n",
    "\n",
    "● cv2.THRESH_BINARY\n",
    "\n",
    "● cv2.THRESH_BINARY_INV\n",
    "\n",
    "● cv2.THRESH_TRUNC\n",
    "\n",
    "● cv2.THRESH_TOZERO\n",
    "\n",
    "● cv2.THRESH_TOZERO_INV"
   ]
  },
  {
   "cell_type": "code",
   "execution_count": 27,
   "id": "12047083",
   "metadata": {},
   "outputs": [],
   "source": [
    "import cv2\n",
    " \n",
    "# Reading the image\n",
    "image = cv2.imread('apple.png',cv2.IMREAD_GRAYSCALE) # เปลี่ยนเป็นขาวดำ\n",
    " \n",
    "# Showing the image\n",
    "cv2.imshow('Original', image)\n",
    "\n",
    "# Applying the threshold\n",
    "# โดยเราตั้ง threshold อยู่ที่ 127 แล้ว maximum value อยู่ที่ 255\n",
    "ret,thresh1 = cv2.threshold(image,127,255,cv2.THRESH_BINARY) # ถ้าค่า pixel ไหนเกิน 127 จะ set เป็น 255 หรือสีขาว เลย \n",
    "cv2.imshow('THRESH_BINARY', thresh1)\n",
    "\n",
    "ret,thresh2 = cv2.threshold(image,127,255,cv2.THRESH_BINARY_INV) # INV คือ invert \n",
    "cv2.imshow('THRESH_BINARY_INV', thresh2)\n",
    "\n",
    "ret,thresh3 = cv2.threshold(image,127,255,cv2.THRESH_TRUNC) # ถ้าค่าไหนเกิน 127 ก็ set เป็นค่านั้นเลย ส่วนค่าไหนไม่ถึงก็คงค่าเดิมไว้\n",
    "cv2.imshow('THRESH_TRUNC', thresh3)\n",
    "\n",
    "ret,thresh4 = cv2.threshold(image,127,255,cv2.THRESH_TOZERO) # ถ้าค่าไหนต่ำกว่า 127 ก็ set ค่านั้นเป็น 0 หรือสีดำเลย ส่วนค่าไหนสูงกว่าจะเป็นค่าเดิม\n",
    "cv2.imshow('THRESH_TOZERO', thresh4)\n",
    "\n",
    "ret,thresh5 = cv2.threshold(image,127,255,cv2.THRESH_TOZERO_INV) # INV คือ invert \n",
    "cv2.imshow('THRESH_TOZERO_INV', thresh5)\n",
    " \n",
    "cv2.waitKey()\n",
    "cv2.destroyAllWindows()"
   ]
  },
  {
   "cell_type": "markdown",
   "id": "a10478c1",
   "metadata": {},
   "source": [
    "### Morphology Operations"
   ]
  },
  {
   "cell_type": "markdown",
   "id": "d16b8ef3",
   "metadata": {},
   "source": [
    "Morphology คือการเปลี่ยนรูปแบบในต่างไปจากเดิม \n",
    "\n",
    "ในเชิง image processing จะหมายถึงให้รูปเปลี่ยนแปลง เช่น รูปร่างเปลี่ยน เส้นขอบชัดเจน เป็นต้น มักใช้ให้เส้นขอบของวัตถุชัดเจนขึ้น"
   ]
  },
  {
   "cell_type": "markdown",
   "id": "a996543c",
   "metadata": {},
   "source": [
    "**Type ที่มักใช้บ่อย** \n",
    "\n",
    "● cv2.MORPH_CLOSE\n",
    "\n",
    "● cv2.MORPH_OPEN\n",
    "\n",
    "● cv2.MORPH_GRADIENT\n",
    "\n",
    "● cv2.MORPH_TOPHAT\n",
    "\n",
    "● cv2.MORPH_BLACKHAT"
   ]
  },
  {
   "cell_type": "code",
   "execution_count": 28,
   "id": "c2192df9",
   "metadata": {},
   "outputs": [],
   "source": [
    "import cv2\n",
    " \n",
    "# Reading the image\n",
    "image = cv2.imread('morph.png',cv2.IMREAD_GRAYSCALE) # เปลี่ยนเป็นขาวดำ\n",
    " \n",
    "# Showing the image\n",
    "cv2.imshow('Original', image)\n",
    "\n",
    "# Applying the morph\n",
    "morph = cv2.dilate(image,(5,5),iterations = 3) # เพิ่มขอบให้ใหญ่ขึ้น\n",
    "cv2.imshow('dilate', morph)\n",
    "\n",
    "morph = cv2.erode(image,(5,5),iterations = 3) # ลดขอบให้เล็กลง\n",
    "cv2.imshow('erode', morph)\n",
    "\n",
    "morph = cv2.morphologyEx(image, cv2.MORPH_OPEN, (5,5)) # ช่วยอุดรูรั่วขาว ๆ ในภาพ\n",
    "cv2.imshow('MORPH_OPEN', morph)\n",
    "\n",
    "morph = cv2.morphologyEx(image, cv2.MORPH_CLOSE, (5,5)) # ช่วยอุดรูรั่วดำ ๆ ในภาพ\n",
    "cv2.imshow('MORPH_CLOSE', morph)\n",
    "\n",
    "morph = cv2.morphologyEx(image, cv2.MORPH_GRADIENT, (5,5)) # จะรวมกันระหว่าง MORPH_OPEN และ MORPH_CLOSE โดยจะได้ขอบของวัตถุนั้น ๆ \n",
    "cv2.imshow('MORPH_GRADIENT', morph)\n",
    " \n",
    "cv2.waitKey()\n",
    "cv2.destroyAllWindows()"
   ]
  },
  {
   "cell_type": "code",
   "execution_count": null,
   "id": "25bcaf9e",
   "metadata": {},
   "outputs": [],
   "source": []
  }
 ],
 "metadata": {
  "kernelspec": {
   "display_name": "Python 3 (ipykernel)",
   "language": "python",
   "name": "python3"
  },
  "language_info": {
   "codemirror_mode": {
    "name": "ipython",
    "version": 3
   },
   "file_extension": ".py",
   "mimetype": "text/x-python",
   "name": "python",
   "nbconvert_exporter": "python",
   "pygments_lexer": "ipython3",
   "version": "3.9.13"
  }
 },
 "nbformat": 4,
 "nbformat_minor": 5
}
